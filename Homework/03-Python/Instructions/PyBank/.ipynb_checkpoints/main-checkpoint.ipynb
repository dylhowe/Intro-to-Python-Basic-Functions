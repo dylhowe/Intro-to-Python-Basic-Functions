{
 "cells": [
  {
   "cell_type": "code",
   "execution_count": null,
   "metadata": {},
   "outputs": [],
   "source": [
    "import csv\n",
    "import os\n",
    "import sys"
   ]
  },
  {
   "cell_type": "code",
   "execution_count": null,
   "metadata": {
    "scrolled": true
   },
   "outputs": [],
   "source": []
  },
  {
   "cell_type": "code",
   "execution_count": null,
   "metadata": {},
   "outputs": [],
   "source": [
    "csv2 = csv.reader(open(\"../../instructions/pybank/raw_data/budget_data_2.csv\"))\n",
    "total_months = 0\n",
    "total_net = 0\n",
    "prev_net = 0\n",
    "net_change = []\n",
    "net_change_list = []\n",
    "month_of_change = []\n",
    "\n",
    "next(csv2)\n",
    "for row in csv2:    \n",
    "        # Track the total\n",
    "        total_months = total_months + 1\n",
    "        total_net = total_net + int(row[1])         \n",
    "        # Track the net change\n",
    "        net_change = int(row[1]) - prev_net\n",
    "        prev_net = int(row[1])\n",
    "        net_change_list = net_change_list + [net_change]\n",
    "        month_of_change = month_of_change + [row[0]]\n",
    "\n",
    "\n",
    "min_month = net_change_list.index(min(net_change_list))\n",
    "\n",
    "\n",
    "max_month = net_change_list.index(max(net_change_list))\n",
    "\n",
    "avg = sum(net_change_list)/len(net_change_list)\n",
    "\n",
    "\n",
    "sys.stdout=open(\"output.txt\",\"w\")\n",
    "\n",
    "print(\"Financial Analysis\")\n",
    "print(\"--------------------\")\n",
    "print(\"Total Months: \" + str(total_months))\n",
    "print(\"Total Revenue: \" + str(total_net))\n",
    "print(\"Average Revenue Change: \" + str(sum(net_change_list)/len(net_change_list)))\n",
    "print(\"Greatest Increase in Revenue: \" + month_of_change[max_month]+ \" ($\" + str(max(net_change_list)) + \")\")\n",
    "print(\"Greatest Decrease in Revenue: \" + month_of_change[min_month]+ \" ($\" + str(min(net_change_list)) + \")\")\n",
    "\n",
    "sys.stdout.close()"
   ]
  },
  {
   "cell_type": "code",
   "execution_count": null,
   "metadata": {},
   "outputs": [],
   "source": []
  },
  {
   "cell_type": "code",
   "execution_count": null,
   "metadata": {},
   "outputs": [],
   "source": [
    "csv1 = csv.reader(open(\"../../instructions/pybank/raw_data/budget_data_1.csv\"))\n",
    "total_months = 0\n",
    "total_net = 0\n",
    "prev_net = 0\n",
    "net_change = []\n",
    "net_change_list = []\n",
    "month_of_change = []\n",
    "\n",
    "next(csv1)\n",
    "for row in csv1:    \n",
    "        # Track the total\n",
    "        total_months = total_months + 1\n",
    "        total_net = total_net + int(row[1])         \n",
    "        # Track the net change\n",
    "        net_change = int(row[1]) - prev_net\n",
    "        prev_net = int(row[1])\n",
    "        net_change_list = net_change_list + [net_change]\n",
    "        month_of_change = month_of_change + [row[0]]\n",
    "\n",
    "\n",
    "min_month = net_change_list.index(min(net_change_list))\n",
    "\n",
    "\n",
    "max_month = net_change_list.index(max(net_change_list))\n",
    "\n",
    "avg = sum(net_change_list)/len(net_change_list)\n",
    "\n",
    "sys.stdout=open(\"output1.txt\",\"w\")\n",
    "\n",
    "print(\"Financial Analysis\")\n",
    "print(\"--------------------\")\n",
    "print(\"Total Months: \" + str(total_months))\n",
    "print(\"Total Revenue: \" + str(total_net))\n",
    "print(\"Average Revenue Change: \" + str(sum(net_change_list)/len(net_change_list)))\n",
    "print(\"Greatest Increase in Revenue: \" + month_of_change[max_month]+ \" ($\" + str(max(net_change_list)) + \")\")\n",
    "print(\"Greatest Decrease in Revenue: \" + month_of_change[min_month]+ \" ($\" + str(min(net_change_list)) + \")\")\n",
    "sys.stdout.close()\n"
   ]
  },
  {
   "cell_type": "code",
   "execution_count": 58,
   "metadata": {},
   "outputs": [],
   "source": []
  },
  {
   "cell_type": "code",
   "execution_count": null,
   "metadata": {},
   "outputs": [],
   "source": []
  }
 ],
 "metadata": {
  "kernelspec": {
   "display_name": "Python 3",
   "language": "python",
   "name": "python3"
  },
  "language_info": {
   "codemirror_mode": {
    "name": "ipython",
    "version": 3
   },
   "file_extension": ".py",
   "mimetype": "text/x-python",
   "name": "python",
   "nbconvert_exporter": "python",
   "pygments_lexer": "ipython3",
   "version": "3.6.4"
  }
 },
 "nbformat": 4,
 "nbformat_minor": 2
}
