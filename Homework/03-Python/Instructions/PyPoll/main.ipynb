{
 "cells": [
  {
   "cell_type": "code",
   "execution_count": null,
   "metadata": {},
   "outputs": [],
   "source": [
    "import csv\n",
    "import os\n",
    "import sys\n"
   ]
  },
  {
   "cell_type": "code",
   "execution_count": null,
   "metadata": {},
   "outputs": [],
   "source": [
    "csv1 = csv.reader(open(\"raw_data/election_data_1.csv\"))\n",
    "\n",
    "\n",
    "candidatelist = []\n",
    "totalvotes = []\n",
    "votes1 = []\n",
    "votes2 = []\n",
    "votes0 = []\n",
    "votes3 = []\n",
    "votes4 = []\n",
    "votes5 = []\n",
    "votes6 = []\n",
    "\n",
    "next(csv1)\n",
    "for row in csv1:\n",
    "    \n",
    "    totalvotes.append(int(row[0]))\n",
    "    \n",
    "    \n",
    "    if row[2] not in candidatelist:\n",
    "        candidatelist.append(row[2])\n",
    "    \n",
    "csv1 = csv.reader(open(\"raw_data/election_data_1.csv\"))\n",
    "for row in csv1:\n",
    "\n",
    "    if row[2] == str(candidatelist[0]):\n",
    "        votes0.append(int(row[0]))\n",
    "    if row[2] == str(candidatelist[1]):\n",
    "        votes1.append(int(row[0]))\n",
    "    if row[2] == str(candidatelist[2]):\n",
    "        votes2.append(int(row[0]))\n",
    "    if row[2] == str(candidatelist[3]):\n",
    "        votes3.append(int(row[0]))\n",
    "        \n",
    "dict1 = csv.DictReader(open(\"raw_data/election_data_1.csv\"))\n",
    "\n",
    "totals = {}\n",
    "for k in dict1:\n",
    "    if 'Candidate' in k:\n",
    "         totals[k['Candidate']] = totals.get(k['Candidate'], 0) + 1\n",
    "\n",
    "\n",
    "sys.stdout=open(\"output.txt\",\"w\")\n",
    "\n",
    "print(\"Election Results\")\n",
    "print(candidatelist)\n",
    "print(\"Total votes: \" + str(len(totalvotes)))\n",
    "print( str(candidatelist[0]) + \",\" + str(len(votes0)/len(totalvotes)*100) + \"%, (\" + str(len(votes0)) + \")\")\n",
    "print( str(candidatelist[1]) + \",\" + str(len(votes1)/len(totalvotes)*100) + \"%, (\" + str(len(votes1)) + \")\")\n",
    "print( str(candidatelist[2]) + \",\" + str(len(votes2)/len(totalvotes)*100) + \"%, (\" + str(len(votes2)) + \")\")\n",
    "print( str(candidatelist[3]) + \",\" + str(len(votes3)/len(totalvotes)*100) + \"%, (\" + str(len(votes3)) + \")\")\n",
    "print(\"The winner is \" + (max(totals)))\n",
    "\n",
    "sys.stdout.close()\n",
    "\n",
    "print(\"Election Results\")\n",
    "print(candidatelist)\n",
    "print(\"Total votes: \" + str(len(totalvotes)))\n",
    "print( str(candidatelist[0]) + \",\" + str(len(votes0)/len(totalvotes)*100) + \"%, (\" + str(len(votes0)) + \")\")\n",
    "print( str(candidatelist[1]) + \",\" + str(len(votes1)/len(totalvotes)*100) + \"%, (\" + str(len(votes1)) + \")\")\n",
    "print( str(candidatelist[2]) + \",\" + str(len(votes2)/len(totalvotes)*100) + \"%, (\" + str(len(votes2)) + \")\")\n",
    "print( str(candidatelist[3]) + \",\" + str(len(votes3)/len(totalvotes)*100) + \"%, (\" + str(len(votes3)) + \")\")\n",
    "print(\"The winner is \" + (max(totals)))"
   ]
  },
  {
   "cell_type": "code",
   "execution_count": 16,
   "metadata": {},
   "outputs": [
    {
     "ename": "SyntaxError",
     "evalue": "invalid syntax (<ipython-input-16-17927dc6a997>, line 9)",
     "output_type": "error",
     "traceback": [
      "\u001b[1;36m  File \u001b[1;32m\"<ipython-input-16-17927dc6a997>\"\u001b[1;36m, line \u001b[1;32m9\u001b[0m\n\u001b[1;33m    print(max(totals{1}))\u001b[0m\n\u001b[1;37m                    ^\u001b[0m\n\u001b[1;31mSyntaxError\u001b[0m\u001b[1;31m:\u001b[0m invalid syntax\n"
     ]
    }
   ],
   "source": []
  },
  {
   "cell_type": "code",
   "execution_count": null,
   "metadata": {},
   "outputs": [],
   "source": []
  }
 ],
 "metadata": {
  "kernelspec": {
   "display_name": "Python 3",
   "language": "python",
   "name": "python3"
  }
 },
 "nbformat": 4,
 "nbformat_minor": 2
}
