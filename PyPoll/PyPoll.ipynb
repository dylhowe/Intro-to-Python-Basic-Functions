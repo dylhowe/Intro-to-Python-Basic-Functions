{
 "cells": [
  {
   "cell_type": "code",
   "execution_count": null,
   "metadata": {},
   "outputs": [],
   "source": [
    "import csv\n",
    "import os\n",
    "import sys\n"
   ]
  },
  {
   "cell_type": "code",
   "execution_count": null,
   "metadata": {},
   "outputs": [],
   "source": [
    "csv1 = csv.reader(open(\"raw_data/election_data_1.csv\"))\n",
    "\n",
    "\n",
    "candidatelist = []\n",
    "totalvotes = []\n",
    "votes1 = []\n",
    "votes2 = []\n",
    "votes0 = []\n",
    "votes3 = []\n",
    "votes4 = []\n",
    "votes5 = []\n",
    "votes6 = []\n",
    "\n",
    "next(csv1)\n",
    "for row in csv1:\n",
    "    \n",
    "    totalvotes.append(int(row[0]))\n",
    "    \n",
    "    \n",
    "    if row[2] not in candidatelist:\n",
    "        candidatelist.append(row[2])\n",
    "    \n",
    "csv1 = csv.reader(open(\"raw_data/election_data_1.csv\"))\n",
    "for row in csv1:\n",
    "\n",
    "    if row[2] == str(candidatelist[0]):\n",
    "        votes0.append(int(row[0]))\n",
    "    if row[2] == str(candidatelist[1]):\n",
    "        votes1.append(int(row[0]))\n",
    "    if row[2] == str(candidatelist[2]):\n",
    "        votes2.append(int(row[0]))\n",
    "    if row[2] == str(candidatelist[3]):\n",
    "        votes3.append(int(row[0]))\n",
    "        \n",
    "dict1 = csv.DictReader(open(\"raw_data/election_data_1.csv\"))\n",
    "\n",
    "totals = {}\n",
    "for k in dict1:\n",
    "    if 'Candidate' in k:\n",
    "         totals[k['Candidate']] = totals.get(k['Candidate'], 0) + 1\n",
    "\n",
    "\n",
    "sys.stdout=open(\"output.txt\",\"w\")\n",
    "\n",
    "print(\"Election Results\")\n",
    "print(candidatelist)\n",
    "print(\"Total votes: \" + str(len(totalvotes)))\n",
    "print( str(candidatelist[0]) + \",\" + str(len(votes0)/len(totalvotes)*100) + \"%, (\" + str(len(votes0)) + \")\")\n",
    "print( str(candidatelist[1]) + \",\" + str(len(votes1)/len(totalvotes)*100) + \"%, (\" + str(len(votes1)) + \")\")\n",
    "print( str(candidatelist[2]) + \",\" + str(len(votes2)/len(totalvotes)*100) + \"%, (\" + str(len(votes2)) + \")\")\n",
    "print( str(candidatelist[3]) + \",\" + str(len(votes3)/len(totalvotes)*100) + \"%, (\" + str(len(votes3)) + \")\")\n",
    "print(\"The winner is \" + (max(totals)))\n",
    "\n",
    "sys.stdout.close()\n",
    "\n",
    "print(\"Election Results\")\n",
    "print(candidatelist)\n",
    "print(\"Total votes: \" + str(len(totalvotes)))\n",
    "print( str(candidatelist[0]) + \",\" + str(len(votes0)/len(totalvotes)*100) + \"%, (\" + str(len(votes0)) + \")\")\n",
    "print( str(candidatelist[1]) + \",\" + str(len(votes1)/len(totalvotes)*100) + \"%, (\" + str(len(votes1)) + \")\")\n",
    "print( str(candidatelist[2]) + \",\" + str(len(votes2)/len(totalvotes)*100) + \"%, (\" + str(len(votes2)) + \")\")\n",
    "print( str(candidatelist[3]) + \",\" + str(len(votes3)/len(totalvotes)*100) + \"%, (\" + str(len(votes3)) + \")\")\n",
    "print(\"The winner is \" + (max(totals)))"
   ]
  },
  {
   "cell_type": "code",
   "execution_count": null,
   "metadata": {},
   "outputs": [],
   "source": []
  },
  {
   "cell_type": "code",
   "execution_count": null,
   "metadata": {},
   "outputs": [],
   "source": []
  }
 ],
 "metadata": {
  "kernelspec": {
   "display_name": "Python 3",
   "language": "python",
   "name": "python3"
  },
  "language_info": {
   "codemirror_mode": {
    "name": "ipython",
    "version": 3
   },
   "file_extension": ".py",
   "mimetype": "text/x-python",
   "name": "python",
   "nbconvert_exporter": "python",
   "pygments_lexer": "ipython3",
   "version": "3.6.4"
  }
 },
 "nbformat": 4,
 "nbformat_minor": 2
}
